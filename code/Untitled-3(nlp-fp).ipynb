{
 "cells": [
  {
   "cell_type": "code",
   "execution_count": null,
   "id": "e1db723d",
   "metadata": {},
   "outputs": [
    {
     "name": "stdout",
     "output_type": "stream",
     "text": [
      "✅ 清洗完成（包含双重停用词过滤），已保存为 mba_reviews_cleaned.csv\n"
     ]
    }
   ],
   "source": [
    "import pandas as pd\n",
    "import re\n",
    "import nltk\n",
    "from nltk.corpus import stopwords\n",
    "from nltk.stem import WordNetLemmatizer\n",
    "\n",
    "# 可选：首次运行请取消注释\n",
    "# nltk.download('stopwords')\n",
    "# nltk.download('wordnet')\n",
    "# nltk.download('omw-1.4')\n",
    "\n",
    "# 读取原始评论文件\n",
    "df = pd.read_csv(\"original reviews.csv\")\n",
    "df.columns = df.columns.str.strip().str.title()\n",
    "\n",
    "# 初始化工具\n",
    "lemmatizer = WordNetLemmatizer()\n",
    "standard_stopwords = set(stopwords.words('english'))\n",
    "\n",
    "\n",
    "# ✅ 自定义近义词归一映射\n",
    "synonym_map = {\n",
    "    \"great\": \"good\", \"amazing\": \"good\", \"fantastic\": \"good\", \"excellent\": \"good\",\n",
    "    \"awesome\": \"good\", \"nice\": \"good\", \"incredible\": \"good\", \"incredibly\": \"good\",\n",
    "    \"bad\": \"poor\", \"terrible\": \"poor\", \"awful\": \"poor\", \"horrible\": \"poor\", \"sucks\": \"poor\",\n",
    "    \"study\": \"learn\", \"learning\": \"learn\", \"campus\": \"location\",\n",
    "    \"city\": \"location\", \"place\": \"location\", \"area\": \"location\", \"near\": \"location\", \"far\": \"location\", \"town\": \"location\",\n",
    "    \"competitive\": \"hard\", \"tough\": \"hard\", \"difficult\": \"hard\", \"challenging\": \"hard\", \"stressful\": \"hard\", \"effort\": \"hard\",\n",
    "    \"course\": \"class\", \"curriculum\": \"class\", \"academics\": \"class\", \"classes\": \"class\", \"subject\": \"class\", \"subjects\": \"class\", \"academic\": \"class\", \"made\": \"make\",\n",
    "    \"career\": \"job\", \"recruiting\": \"job\", \"recruit\": \"job\", \"offer\": \"job\", \"internship\": \"job\", \"firm\": \"job\", \"company\": \"job\", \"opportunity\": \"job\", \"offering\": \"job\", \"opportunities\": \"job\", \"interview\": \"job\",\n",
    "    \"social\": \"network\", \"networking\": \"network\", \"alumni\": \"network\",\n",
    "    \"alumnus network\": \"network\", \"alumnus\": \"network\",\n",
    "    \"student body\": \"size\", \"body\": \"size\", \"environment\": \"community\", \"cohort\": \"community\", \"part\": \"community\", \n",
    "    \"bank\": \"finance\", \"finance\": \"finance\", \"financial\": \"finance\", \"banking\": \"finance\",\n",
    "    \"nyc\": \"newyork\", \"ny\": \"newyork\", \"new york\": \"newyork\", \n",
    "    \"friend\": \"classmate\",  \"peer\": \"classmate\", \"colleague\": \"classmate\", \n",
    "    \"teacher\": \"professor\", \"instructor\": \"professor\", \"professors\": \"professor\", \"teachers\": \"professor\",  \n",
    "    \"together\": \"team\", \"teamwork\": \"team\", \"collaborate\": \"team\", \"collaboration\": \"team\", \"group\": \"team\", \"groups\": \"team\", \"working together\": \"team\", \"collaborative\": \"team\", \"work together\": \"team\", \"work with team\": \"team\", \"work with others\": \"team\", \"work with classmates\": \"team\", \"work with peers\": \"team\",\n",
    "    \"startup\": \"entrepreneurship\", \"entrepreneur\": \"entrepreneurship\", \"founder\": \"entrepreneurship\", \"founders\": \"entrepreneurship\", \n",
    "    \"consultant\": \"consulting\", \"consulting firm\": \"consulting\", \"consultants\": \"consulting\", \"consultancy\": \"consulting\", \"MBB\": \"consulting\", \"BCG\": \"consulting\", \"McKinsey\": \"consulting\", \"Bain\": \"consulting\",\n",
    "    \"diversity\": \"diverse\", \"inclusive\": \"diverse\", \"inclusivity\": \"diverse\", \"diverse community\": \"diverse\", \"diversity and inclusion\": \"diverse\",\n",
    "    \"term\": \"semester\", \"quarter\":\"semster\", \n",
    "    \"world\": \"international\", \"global\": \"international\", \"internationally\": \"international\", \"worldwide\": \"international\",\n",
    "    \"event\": \"activity\", \"activities\": \"activity\", \"eventful\": \"activity\", \"events\": \"activity\", \"social event\": \"activity\", \"social events\": \"activity\", \"club\": \"activity\", \"clubs\": \"activity\", \"club activities\": \"activity\", \"club event\": \"activity\", \"club events\": \"activity\",\n",
    "    \"case method\": \"case\", \"cases\": \"case\", \"case study\": \"case\", \"case studies\": \"case\", \"case-based\": \"case\", \"case method approach\": \"case\", \"case method teaching\": \"case\",\n",
    "    \"technology\": \"tech\", \n",
    "    \"supportive\": \"support\",\n",
    "    \"sf\": \"sanfrancisco\", \"san francisco\": \"sanfrancisco\", \"bay area\": \"sanfrancisco\", \"silicon valley\": \"sanfrancisco\",\n",
    "    \"car\": \"transportation\", \"bus\": \"transportation\", \"train\": \"transportation\", \"metro\": \"transportation\", \"subway\": \"transportation\", \"public transport\": \"transportation\", \"public transportation\": \"transportation\", \"public transit\": \"transportation\", \"commute\": \"transportation\",\n",
    "\n",
    "\n",
    "\n",
    "\n",
    "}\n",
    "\n",
    "\n",
    "# ✅ 自定义额外要去掉的停用词\n",
    "custom_stopwords = set([\n",
    "    'also', 'even', 'still', 'just', 'however', 'definitely', 'basically',\n",
    "    'booth', 'hb', 'kellogg', 'mba', 'mit', 'som', 'tuck', 'wharton', 'yale',\n",
    "    'year', 'columbia', 'etc', 'stern', 'could', 'something', 'able', 'always',\n",
    "    'extremely', 'really', 'like', 'much', 'many', 'lot', 'little', 'way', 'one',\n",
    "    'sloan', 'take', 'two', 'youre', 'especially', 'im', 'cbs', 'well', 'good', 'think', 'find', 'best', 'make', 'harvard', 'stanford','thing', 'great', 'amazing', 'fantastic', 'excellent', 'awesome', 'nice', 'incredible', 'incredibly', 'bad', 'terrible', 'awful', 'horrible', 'sucks', 'business', 'go', 'going', 'make', 'made', 'find', 'simply', 'want', 'will', 'ive','help', 'dont', 'willing', 'appreciate', 'come', 'meet', 'overall', 'example', 'school', 'met', 'university', 'need', 'get', 'took', 'look', 'looking', 'believe', 'feel', 'know', 'program', 'big', 'small', 'huge', 'every', 'top', 'best', 'went','would', 'say', 'interested', 'give', 'gave', 'first', 'second', 'ton', 'anything', 'applicant', 'dartmouth', 'tuck', 'student', 'students', 'people', 'person','nyu', 'gsb', 'sport', 'sports', 'postmba', 'emba', 'sanfrancisco', 'newyork', 'chicago', 'boston', 'ivy', 'philadelphia', 'focus', 'perspective', 'perspectives', 'different', 'expectation'\n",
    "])\n",
    "\n",
    "# 第一步：标准清洗 + NLTK 停用词处理\n",
    "def clean_text(text):\n",
    "    if pd.isnull(text):\n",
    "        return \"\"\n",
    "    text = text.lower()\n",
    "    text = re.sub(r'[^\\w\\s]', '', text)  # 去除标点\n",
    "    words = text.split()\n",
    "    words = [lemmatizer.lemmatize(word) for word in words if word not in standard_stopwords]\n",
    "    return ' '.join(words)\n",
    "\n",
    "# 第二步：去除自定义无意义词\n",
    "def remove_custom_stopwords(text):\n",
    "    words = text.split()\n",
    "    words = [word for word in words if word not in custom_stopwords]\n",
    "    return ' '.join(words)\n",
    "\n",
    "# 第三步：同义词归一（支持多词）\n",
    "def normalize_synonyms(text):\n",
    "    for phrase, replacement in synonym_map.items():\n",
    "        text = re.sub(r'\\b' + re.escape(phrase) + r'\\b', replacement, text)\n",
    "    return text\n",
    "\n",
    "# 顺序处理：标准清洗 → 自定义停词 → 同义词归一\n",
    "df['Cleaned_Review'] = df['Review'].apply(clean_text)\n",
    "df['Cleaned_Review'] = df['Cleaned_Review'].apply(normalize_synonyms)\n",
    "df['Cleaned_Review'] = df['Cleaned_Review'].apply(remove_custom_stopwords)\n",
    "\n",
    "\n",
    "# 保存结果\n",
    "df.to_csv(\"mba_reviews_cleaned.csv\", index=False)\n",
    "print(\"清洗完成（包含双重停用词过滤），已保存为 mba_reviews_cleaned.csv\")\n"
   ]
  },
  {
   "cell_type": "code",
   "execution_count": 38,
   "id": "3368903d",
   "metadata": {},
   "outputs": [
    {
     "name": "stderr",
     "output_type": "stream",
     "text": [
      "2025-06-08 18:01:51,805 - BERTopic - Embedding - Transforming documents to embeddings.\n"
     ]
    },
    {
     "name": "stderr",
     "output_type": "stream",
     "text": [
      "Batches: 100%|██████████| 7/7 [00:04<00:00,  1.56it/s]\n",
      "2025-06-08 18:01:56,959 - BERTopic - Embedding - Completed ✓\n",
      "2025-06-08 18:01:56,960 - BERTopic - Dimensionality - Fitting the dimensionality reduction algorithm\n",
      "2025-06-08 18:01:57,317 - BERTopic - Dimensionality - Completed ✓\n",
      "2025-06-08 18:01:57,319 - BERTopic - Cluster - Start clustering the reduced embeddings\n",
      "2025-06-08 18:01:57,335 - BERTopic - Cluster - Completed ✓\n",
      "2025-06-08 18:01:57,340 - BERTopic - Representation - Fine-tuning topics using representation models.\n",
      "2025-06-08 18:01:57,455 - BERTopic - Representation - Completed ✓\n"
     ]
    },
    {
     "name": "stdout",
     "output_type": "stream",
     "text": [
      "主题 -1:\n",
      "job, location, class, network, classmate, community, experience, hard, activity, time\n",
      "==================================================\n",
      "主题 0:\n",
      "job, finance, class, location, consulting, network, investment, experience, professor, investment finance\n",
      "==================================================\n",
      "主题 1:\n",
      "community, class, location, job, experience, network, support, team, time, faculty\n",
      "==================================================\n",
      "主题 2:\n",
      "job, community, consulting, class, network, location, activity, international, classmate, finance\n",
      "==================================================\n",
      "主题 3:\n",
      "class, location, job, experience, classmate, culture, strong, location job, major, network\n",
      "==================================================\n",
      "主题 4:\n",
      "location, weather, class, snow, dining, earth, fact, fun, live offcampus, rain\n",
      "==================================================\n",
      "主题 5:\n",
      "class, job, team, leadership, activity, time, work, skill, marketing, helpful\n",
      "==================================================\n",
      "主题 6:\n",
      "professor, international, classmate, class, experience, learn, new, nobel prize, prize, knowledge experience\n",
      "==================================================\n",
      "主题 7:\n",
      "entrepreneurship, community, venture, network, tech, there, learn, resource, team, seriously\n",
      "==================================================\n",
      "主题 8:\n",
      "hard, community, team, grade, hour, classmate, varsity, put, day, class\n",
      "==================================================\n",
      "主题 9:\n",
      "entrepreneurship, class, super, job, try, new, become, tech, away, expected\n",
      "==================================================\n"
     ]
    }
   ],
   "source": [
    "import pandas as pd\n",
    "from bertopic import BERTopic\n",
    "\n",
    "# Step 1: 读取清洗后的评论数据\n",
    "df = pd.read_csv(\"mba_reviews_cleaned.csv\")\n",
    "df.columns = df.columns.str.strip()\n",
    "docs = df['Cleaned_Review'].fillna('').tolist()\n",
    "\n",
    "# Step 2: 初始化并训练 BERTopic 模型\n",
    "topic_model = BERTopic(language=\"english\", top_n_words=10, verbose=True, min_topic_size=5, n_gram_range=(1, 2))\n",
    "topics, probs = topic_model.fit_transform(docs)\n",
    "\n",
    "# Step 3: 将主题标签加入原数据\n",
    "df['BERTopic_Label'] = topics\n",
    "df.to_csv(\"mba_reviews_with_topics.csv\", index=False)\n",
    "\n",
    "# Step 4: 输出每所学校的主题分布（数量 & 百分比）\n",
    "school_topic_counts = df.groupby(['School', 'BERTopic_Label']).size().unstack(fill_value=0)\n",
    "school_topic_percent = school_topic_counts.div(school_topic_counts.sum(axis=1), axis=0)\n",
    "\n",
    "school_topic_counts.to_csv(\"school_topic_counts.csv\")\n",
    "school_topic_percent.to_csv(\"school_topic_percent.csv\")\n",
    "\n",
    "# Step 5: 可选：查看每个主题的关键词\n",
    "for topic_num in topic_model.get_topics().keys():\n",
    "    print(f\"主题 {topic_num}:\")\n",
    "    keywords = [word for word, _ in topic_model.get_topic(topic_num)]\n",
    "    print(\", \".join(keywords))\n",
    "    print(\"=\"*50)\n"
   ]
  },
  {
   "cell_type": "code",
   "execution_count": 59,
   "id": "260c53e2",
   "metadata": {},
   "outputs": [
    {
     "data": {
      "application/vnd.plotly.v1+json": {
       "config": {
        "plotlyServerURL": "https://plot.ly"
       },
       "data": [
        {
         "marker": {
          "color": "#D55E00"
         },
         "orientation": "h",
         "type": "bar",
         "x": [
          0.023308474034052624,
          0.02861469368612009,
          0.03215563643608952,
          0.035182913972649,
          0.049414179679353576
         ],
         "xaxis": "x",
         "y": [
          "consulting  ",
          "location  ",
          "class  ",
          "finance  ",
          "job  "
         ],
         "yaxis": "y"
        },
        {
         "marker": {
          "color": "#0072B2"
         },
         "orientation": "h",
         "type": "bar",
         "x": [
          0.022452719110699473,
          0.025044745078330762,
          0.026579815945426754,
          0.03268821478626839,
          0.03662743693572174
         ],
         "xaxis": "x2",
         "y": [
          "experience  ",
          "job  ",
          "location  ",
          "class  ",
          "community  "
         ],
         "yaxis": "y2"
        },
        {
         "marker": {
          "color": "#CC79A7"
         },
         "orientation": "h",
         "type": "bar",
         "x": [
          0.01771099703680618,
          0.018812733716491423,
          0.018955951954174315,
          0.02369853940789554,
          0.03861486040243952
         ],
         "xaxis": "x3",
         "y": [
          "network  ",
          "class  ",
          "consulting  ",
          "community  ",
          "job  "
         ],
         "yaxis": "y3"
        },
        {
         "marker": {
          "color": "#E69F00"
         },
         "orientation": "h",
         "type": "bar",
         "x": [
          0.019228884182536838,
          0.023441548393292228,
          0.03496324841560753,
          0.042814910097040026,
          0.0588048600348324
         ],
         "xaxis": "x4",
         "y": [
          "classmate  ",
          "experience  ",
          "job  ",
          "location  ",
          "class  "
         ],
         "yaxis": "y4"
        },
        {
         "marker": {
          "color": "#56B4E9"
         },
         "orientation": "h",
         "type": "bar",
         "x": [
          0.028684759535231797,
          0.028684759535231797,
          0.03450775537386843,
          0.04837578666916423,
          0.0749084210047643
         ],
         "xaxis": "x5",
         "y": [
          "dining  ",
          "snow  ",
          "class  ",
          "weather  ",
          "location  "
         ],
         "yaxis": "y5"
        },
        {
         "marker": {
          "color": "#009E73"
         },
         "orientation": "h",
         "type": "bar",
         "x": [
          0.01994873809619271,
          0.027688021682674275,
          0.03287368350660092,
          0.03871542300126878,
          0.04801596009637516
         ],
         "xaxis": "x6",
         "y": [
          "activity  ",
          "leadership  ",
          "team  ",
          "job  ",
          "class  "
         ],
         "yaxis": "y6"
        },
        {
         "marker": {
          "color": "#F0E442"
         },
         "orientation": "h",
         "type": "bar",
         "x": [
          0.035308746739271805,
          0.03728267849281202,
          0.041376338060029653,
          0.05238788214409805,
          0.06268375609701911
         ],
         "xaxis": "x7",
         "y": [
          "experience  ",
          "class  ",
          "classmate  ",
          "international  ",
          "professor  "
         ],
         "yaxis": "y7"
        },
        {
         "marker": {
          "color": "#D55E00"
         },
         "orientation": "h",
         "type": "bar",
         "x": [
          0.03354726279278412,
          0.035443986205694486,
          0.03891744755254308,
          0.04817930748961418,
          0.07726627678288882
         ],
         "xaxis": "x8",
         "y": [
          "tech  ",
          "network  ",
          "venture  ",
          "community  ",
          "entrepreneurship  "
         ],
         "yaxis": "y8"
        },
        {
         "marker": {
          "color": "#0072B2"
         },
         "orientation": "h",
         "type": "bar",
         "x": [
          0.030140220068811653,
          0.03130495751599506,
          0.03199176040783228,
          0.03293545215210547,
          0.046667774800363895
         ],
         "xaxis": "x9",
         "y": [
          "hour  ",
          "grade  ",
          "team  ",
          "community  ",
          "hard  "
         ],
         "yaxis": "y9"
        },
        {
         "marker": {
          "color": "#CC79A7"
         },
         "orientation": "h",
         "type": "bar",
         "x": [
          0.02475812034906236,
          0.029636549076676864,
          0.03513623067524069,
          0.0376069197516162,
          0.046506059966980415
         ],
         "xaxis": "x10",
         "y": [
          "try  ",
          "job  ",
          "super  ",
          "class  ",
          "entrepreneurship  "
         ],
         "yaxis": "y10"
        }
       ],
       "layout": {
        "annotations": [
         {
          "font": {
           "size": 16
          },
          "showarrow": false,
          "text": "Topic 0",
          "x": 0.0875,
          "xanchor": "center",
          "xref": "paper",
          "y": 1,
          "yanchor": "bottom",
          "yref": "paper"
         },
         {
          "font": {
           "size": 16
          },
          "showarrow": false,
          "text": "Topic 1",
          "x": 0.36250000000000004,
          "xanchor": "center",
          "xref": "paper",
          "y": 1,
          "yanchor": "bottom",
          "yref": "paper"
         },
         {
          "font": {
           "size": 16
          },
          "showarrow": false,
          "text": "Topic 2",
          "x": 0.6375000000000001,
          "xanchor": "center",
          "xref": "paper",
          "y": 1,
          "yanchor": "bottom",
          "yref": "paper"
         },
         {
          "font": {
           "size": 16
          },
          "showarrow": false,
          "text": "Topic 3",
          "x": 0.9125,
          "xanchor": "center",
          "xref": "paper",
          "y": 1,
          "yanchor": "bottom",
          "yref": "paper"
         },
         {
          "font": {
           "size": 16
          },
          "showarrow": false,
          "text": "Topic 4",
          "x": 0.0875,
          "xanchor": "center",
          "xref": "paper",
          "y": 0.6222222222222222,
          "yanchor": "bottom",
          "yref": "paper"
         },
         {
          "font": {
           "size": 16
          },
          "showarrow": false,
          "text": "Topic 5",
          "x": 0.36250000000000004,
          "xanchor": "center",
          "xref": "paper",
          "y": 0.6222222222222222,
          "yanchor": "bottom",
          "yref": "paper"
         },
         {
          "font": {
           "size": 16
          },
          "showarrow": false,
          "text": "Topic 6",
          "x": 0.6375000000000001,
          "xanchor": "center",
          "xref": "paper",
          "y": 0.6222222222222222,
          "yanchor": "bottom",
          "yref": "paper"
         },
         {
          "font": {
           "size": 16
          },
          "showarrow": false,
          "text": "Topic 7",
          "x": 0.9125,
          "xanchor": "center",
          "xref": "paper",
          "y": 0.6222222222222222,
          "yanchor": "bottom",
          "yref": "paper"
         },
         {
          "font": {
           "size": 16
          },
          "showarrow": false,
          "text": "Topic 8",
          "x": 0.0875,
          "xanchor": "center",
          "xref": "paper",
          "y": 0.24444444444444446,
          "yanchor": "bottom",
          "yref": "paper"
         },
         {
          "font": {
           "size": 16
          },
          "showarrow": false,
          "text": "Topic 9",
          "x": 0.36250000000000004,
          "xanchor": "center",
          "xref": "paper",
          "y": 0.24444444444444446,
          "yanchor": "bottom",
          "yref": "paper"
         }
        ],
        "height": 750,
        "hoverlabel": {
         "bgcolor": "white",
         "font": {
          "family": "Rockwell",
          "size": 16
         }
        },
        "showlegend": false,
        "template": {
         "data": {
          "bar": [
           {
            "error_x": {
             "color": "#2a3f5f"
            },
            "error_y": {
             "color": "#2a3f5f"
            },
            "marker": {
             "line": {
              "color": "white",
              "width": 0.5
             },
             "pattern": {
              "fillmode": "overlay",
              "size": 10,
              "solidity": 0.2
             }
            },
            "type": "bar"
           }
          ],
          "barpolar": [
           {
            "marker": {
             "line": {
              "color": "white",
              "width": 0.5
             },
             "pattern": {
              "fillmode": "overlay",
              "size": 10,
              "solidity": 0.2
             }
            },
            "type": "barpolar"
           }
          ],
          "carpet": [
           {
            "aaxis": {
             "endlinecolor": "#2a3f5f",
             "gridcolor": "#C8D4E3",
             "linecolor": "#C8D4E3",
             "minorgridcolor": "#C8D4E3",
             "startlinecolor": "#2a3f5f"
            },
            "baxis": {
             "endlinecolor": "#2a3f5f",
             "gridcolor": "#C8D4E3",
             "linecolor": "#C8D4E3",
             "minorgridcolor": "#C8D4E3",
             "startlinecolor": "#2a3f5f"
            },
            "type": "carpet"
           }
          ],
          "choropleth": [
           {
            "colorbar": {
             "outlinewidth": 0,
             "ticks": ""
            },
            "type": "choropleth"
           }
          ],
          "contour": [
           {
            "colorbar": {
             "outlinewidth": 0,
             "ticks": ""
            },
            "colorscale": [
             [
              0,
              "#0d0887"
             ],
             [
              0.1111111111111111,
              "#46039f"
             ],
             [
              0.2222222222222222,
              "#7201a8"
             ],
             [
              0.3333333333333333,
              "#9c179e"
             ],
             [
              0.4444444444444444,
              "#bd3786"
             ],
             [
              0.5555555555555556,
              "#d8576b"
             ],
             [
              0.6666666666666666,
              "#ed7953"
             ],
             [
              0.7777777777777778,
              "#fb9f3a"
             ],
             [
              0.8888888888888888,
              "#fdca26"
             ],
             [
              1,
              "#f0f921"
             ]
            ],
            "type": "contour"
           }
          ],
          "contourcarpet": [
           {
            "colorbar": {
             "outlinewidth": 0,
             "ticks": ""
            },
            "type": "contourcarpet"
           }
          ],
          "heatmap": [
           {
            "colorbar": {
             "outlinewidth": 0,
             "ticks": ""
            },
            "colorscale": [
             [
              0,
              "#0d0887"
             ],
             [
              0.1111111111111111,
              "#46039f"
             ],
             [
              0.2222222222222222,
              "#7201a8"
             ],
             [
              0.3333333333333333,
              "#9c179e"
             ],
             [
              0.4444444444444444,
              "#bd3786"
             ],
             [
              0.5555555555555556,
              "#d8576b"
             ],
             [
              0.6666666666666666,
              "#ed7953"
             ],
             [
              0.7777777777777778,
              "#fb9f3a"
             ],
             [
              0.8888888888888888,
              "#fdca26"
             ],
             [
              1,
              "#f0f921"
             ]
            ],
            "type": "heatmap"
           }
          ],
          "histogram": [
           {
            "marker": {
             "pattern": {
              "fillmode": "overlay",
              "size": 10,
              "solidity": 0.2
             }
            },
            "type": "histogram"
           }
          ],
          "histogram2d": [
           {
            "colorbar": {
             "outlinewidth": 0,
             "ticks": ""
            },
            "colorscale": [
             [
              0,
              "#0d0887"
             ],
             [
              0.1111111111111111,
              "#46039f"
             ],
             [
              0.2222222222222222,
              "#7201a8"
             ],
             [
              0.3333333333333333,
              "#9c179e"
             ],
             [
              0.4444444444444444,
              "#bd3786"
             ],
             [
              0.5555555555555556,
              "#d8576b"
             ],
             [
              0.6666666666666666,
              "#ed7953"
             ],
             [
              0.7777777777777778,
              "#fb9f3a"
             ],
             [
              0.8888888888888888,
              "#fdca26"
             ],
             [
              1,
              "#f0f921"
             ]
            ],
            "type": "histogram2d"
           }
          ],
          "histogram2dcontour": [
           {
            "colorbar": {
             "outlinewidth": 0,
             "ticks": ""
            },
            "colorscale": [
             [
              0,
              "#0d0887"
             ],
             [
              0.1111111111111111,
              "#46039f"
             ],
             [
              0.2222222222222222,
              "#7201a8"
             ],
             [
              0.3333333333333333,
              "#9c179e"
             ],
             [
              0.4444444444444444,
              "#bd3786"
             ],
             [
              0.5555555555555556,
              "#d8576b"
             ],
             [
              0.6666666666666666,
              "#ed7953"
             ],
             [
              0.7777777777777778,
              "#fb9f3a"
             ],
             [
              0.8888888888888888,
              "#fdca26"
             ],
             [
              1,
              "#f0f921"
             ]
            ],
            "type": "histogram2dcontour"
           }
          ],
          "mesh3d": [
           {
            "colorbar": {
             "outlinewidth": 0,
             "ticks": ""
            },
            "type": "mesh3d"
           }
          ],
          "parcoords": [
           {
            "line": {
             "colorbar": {
              "outlinewidth": 0,
              "ticks": ""
             }
            },
            "type": "parcoords"
           }
          ],
          "pie": [
           {
            "automargin": true,
            "type": "pie"
           }
          ],
          "scatter": [
           {
            "fillpattern": {
             "fillmode": "overlay",
             "size": 10,
             "solidity": 0.2
            },
            "type": "scatter"
           }
          ],
          "scatter3d": [
           {
            "line": {
             "colorbar": {
              "outlinewidth": 0,
              "ticks": ""
             }
            },
            "marker": {
             "colorbar": {
              "outlinewidth": 0,
              "ticks": ""
             }
            },
            "type": "scatter3d"
           }
          ],
          "scattercarpet": [
           {
            "marker": {
             "colorbar": {
              "outlinewidth": 0,
              "ticks": ""
             }
            },
            "type": "scattercarpet"
           }
          ],
          "scattergeo": [
           {
            "marker": {
             "colorbar": {
              "outlinewidth": 0,
              "ticks": ""
             }
            },
            "type": "scattergeo"
           }
          ],
          "scattergl": [
           {
            "marker": {
             "colorbar": {
              "outlinewidth": 0,
              "ticks": ""
             }
            },
            "type": "scattergl"
           }
          ],
          "scattermap": [
           {
            "marker": {
             "colorbar": {
              "outlinewidth": 0,
              "ticks": ""
             }
            },
            "type": "scattermap"
           }
          ],
          "scattermapbox": [
           {
            "marker": {
             "colorbar": {
              "outlinewidth": 0,
              "ticks": ""
             }
            },
            "type": "scattermapbox"
           }
          ],
          "scatterpolar": [
           {
            "marker": {
             "colorbar": {
              "outlinewidth": 0,
              "ticks": ""
             }
            },
            "type": "scatterpolar"
           }
          ],
          "scatterpolargl": [
           {
            "marker": {
             "colorbar": {
              "outlinewidth": 0,
              "ticks": ""
             }
            },
            "type": "scatterpolargl"
           }
          ],
          "scatterternary": [
           {
            "marker": {
             "colorbar": {
              "outlinewidth": 0,
              "ticks": ""
             }
            },
            "type": "scatterternary"
           }
          ],
          "surface": [
           {
            "colorbar": {
             "outlinewidth": 0,
             "ticks": ""
            },
            "colorscale": [
             [
              0,
              "#0d0887"
             ],
             [
              0.1111111111111111,
              "#46039f"
             ],
             [
              0.2222222222222222,
              "#7201a8"
             ],
             [
              0.3333333333333333,
              "#9c179e"
             ],
             [
              0.4444444444444444,
              "#bd3786"
             ],
             [
              0.5555555555555556,
              "#d8576b"
             ],
             [
              0.6666666666666666,
              "#ed7953"
             ],
             [
              0.7777777777777778,
              "#fb9f3a"
             ],
             [
              0.8888888888888888,
              "#fdca26"
             ],
             [
              1,
              "#f0f921"
             ]
            ],
            "type": "surface"
           }
          ],
          "table": [
           {
            "cells": {
             "fill": {
              "color": "#EBF0F8"
             },
             "line": {
              "color": "white"
             }
            },
            "header": {
             "fill": {
              "color": "#C8D4E3"
             },
             "line": {
              "color": "white"
             }
            },
            "type": "table"
           }
          ]
         },
         "layout": {
          "annotationdefaults": {
           "arrowcolor": "#2a3f5f",
           "arrowhead": 0,
           "arrowwidth": 1
          },
          "autotypenumbers": "strict",
          "coloraxis": {
           "colorbar": {
            "outlinewidth": 0,
            "ticks": ""
           }
          },
          "colorscale": {
           "diverging": [
            [
             0,
             "#8e0152"
            ],
            [
             0.1,
             "#c51b7d"
            ],
            [
             0.2,
             "#de77ae"
            ],
            [
             0.3,
             "#f1b6da"
            ],
            [
             0.4,
             "#fde0ef"
            ],
            [
             0.5,
             "#f7f7f7"
            ],
            [
             0.6,
             "#e6f5d0"
            ],
            [
             0.7,
             "#b8e186"
            ],
            [
             0.8,
             "#7fbc41"
            ],
            [
             0.9,
             "#4d9221"
            ],
            [
             1,
             "#276419"
            ]
           ],
           "sequential": [
            [
             0,
             "#0d0887"
            ],
            [
             0.1111111111111111,
             "#46039f"
            ],
            [
             0.2222222222222222,
             "#7201a8"
            ],
            [
             0.3333333333333333,
             "#9c179e"
            ],
            [
             0.4444444444444444,
             "#bd3786"
            ],
            [
             0.5555555555555556,
             "#d8576b"
            ],
            [
             0.6666666666666666,
             "#ed7953"
            ],
            [
             0.7777777777777778,
             "#fb9f3a"
            ],
            [
             0.8888888888888888,
             "#fdca26"
            ],
            [
             1,
             "#f0f921"
            ]
           ],
           "sequentialminus": [
            [
             0,
             "#0d0887"
            ],
            [
             0.1111111111111111,
             "#46039f"
            ],
            [
             0.2222222222222222,
             "#7201a8"
            ],
            [
             0.3333333333333333,
             "#9c179e"
            ],
            [
             0.4444444444444444,
             "#bd3786"
            ],
            [
             0.5555555555555556,
             "#d8576b"
            ],
            [
             0.6666666666666666,
             "#ed7953"
            ],
            [
             0.7777777777777778,
             "#fb9f3a"
            ],
            [
             0.8888888888888888,
             "#fdca26"
            ],
            [
             1,
             "#f0f921"
            ]
           ]
          },
          "colorway": [
           "#636efa",
           "#EF553B",
           "#00cc96",
           "#ab63fa",
           "#FFA15A",
           "#19d3f3",
           "#FF6692",
           "#B6E880",
           "#FF97FF",
           "#FECB52"
          ],
          "font": {
           "color": "#2a3f5f"
          },
          "geo": {
           "bgcolor": "white",
           "lakecolor": "white",
           "landcolor": "white",
           "showlakes": true,
           "showland": true,
           "subunitcolor": "#C8D4E3"
          },
          "hoverlabel": {
           "align": "left"
          },
          "hovermode": "closest",
          "mapbox": {
           "style": "light"
          },
          "paper_bgcolor": "white",
          "plot_bgcolor": "white",
          "polar": {
           "angularaxis": {
            "gridcolor": "#EBF0F8",
            "linecolor": "#EBF0F8",
            "ticks": ""
           },
           "bgcolor": "white",
           "radialaxis": {
            "gridcolor": "#EBF0F8",
            "linecolor": "#EBF0F8",
            "ticks": ""
           }
          },
          "scene": {
           "xaxis": {
            "backgroundcolor": "white",
            "gridcolor": "#DFE8F3",
            "gridwidth": 2,
            "linecolor": "#EBF0F8",
            "showbackground": true,
            "ticks": "",
            "zerolinecolor": "#EBF0F8"
           },
           "yaxis": {
            "backgroundcolor": "white",
            "gridcolor": "#DFE8F3",
            "gridwidth": 2,
            "linecolor": "#EBF0F8",
            "showbackground": true,
            "ticks": "",
            "zerolinecolor": "#EBF0F8"
           },
           "zaxis": {
            "backgroundcolor": "white",
            "gridcolor": "#DFE8F3",
            "gridwidth": 2,
            "linecolor": "#EBF0F8",
            "showbackground": true,
            "ticks": "",
            "zerolinecolor": "#EBF0F8"
           }
          },
          "shapedefaults": {
           "line": {
            "color": "#2a3f5f"
           }
          },
          "ternary": {
           "aaxis": {
            "gridcolor": "#DFE8F3",
            "linecolor": "#A2B1C6",
            "ticks": ""
           },
           "baxis": {
            "gridcolor": "#DFE8F3",
            "linecolor": "#A2B1C6",
            "ticks": ""
           },
           "bgcolor": "white",
           "caxis": {
            "gridcolor": "#DFE8F3",
            "linecolor": "#A2B1C6",
            "ticks": ""
           }
          },
          "title": {
           "x": 0.05
          },
          "xaxis": {
           "automargin": true,
           "gridcolor": "#EBF0F8",
           "linecolor": "#EBF0F8",
           "ticks": "",
           "title": {
            "standoff": 15
           },
           "zerolinecolor": "#EBF0F8",
           "zerolinewidth": 2
          },
          "yaxis": {
           "automargin": true,
           "gridcolor": "#EBF0F8",
           "linecolor": "#EBF0F8",
           "ticks": "",
           "title": {
            "standoff": 15
           },
           "zerolinecolor": "#EBF0F8",
           "zerolinewidth": 2
          }
         }
        },
        "title": {
         "font": {
          "color": "Black",
          "size": 22
         },
         "text": "Topic Word Scores",
         "x": 0.5,
         "xanchor": "center",
         "yanchor": "top"
        },
        "width": 1000,
        "xaxis": {
         "anchor": "y",
         "domain": [
          0,
          0.175
         ],
         "showgrid": true
        },
        "xaxis10": {
         "anchor": "y10",
         "domain": [
          0.275,
          0.45
         ],
         "showgrid": true
        },
        "xaxis11": {
         "anchor": "y11",
         "domain": [
          0.55,
          0.7250000000000001
         ],
         "showgrid": true
        },
        "xaxis12": {
         "anchor": "y12",
         "domain": [
          0.825,
          1
         ],
         "showgrid": true
        },
        "xaxis2": {
         "anchor": "y2",
         "domain": [
          0.275,
          0.45
         ],
         "showgrid": true
        },
        "xaxis3": {
         "anchor": "y3",
         "domain": [
          0.55,
          0.7250000000000001
         ],
         "showgrid": true
        },
        "xaxis4": {
         "anchor": "y4",
         "domain": [
          0.825,
          1
         ],
         "showgrid": true
        },
        "xaxis5": {
         "anchor": "y5",
         "domain": [
          0,
          0.175
         ],
         "showgrid": true
        },
        "xaxis6": {
         "anchor": "y6",
         "domain": [
          0.275,
          0.45
         ],
         "showgrid": true
        },
        "xaxis7": {
         "anchor": "y7",
         "domain": [
          0.55,
          0.7250000000000001
         ],
         "showgrid": true
        },
        "xaxis8": {
         "anchor": "y8",
         "domain": [
          0.825,
          1
         ],
         "showgrid": true
        },
        "xaxis9": {
         "anchor": "y9",
         "domain": [
          0,
          0.175
         ],
         "showgrid": true
        },
        "yaxis": {
         "anchor": "x",
         "domain": [
          0.7555555555555555,
          1
         ],
         "showgrid": true
        },
        "yaxis10": {
         "anchor": "x10",
         "domain": [
          0,
          0.24444444444444446
         ],
         "showgrid": true
        },
        "yaxis11": {
         "anchor": "x11",
         "domain": [
          0,
          0.24444444444444446
         ],
         "showgrid": true
        },
        "yaxis12": {
         "anchor": "x12",
         "domain": [
          0,
          0.24444444444444446
         ],
         "showgrid": true
        },
        "yaxis2": {
         "anchor": "x2",
         "domain": [
          0.7555555555555555,
          1
         ],
         "showgrid": true
        },
        "yaxis3": {
         "anchor": "x3",
         "domain": [
          0.7555555555555555,
          1
         ],
         "showgrid": true
        },
        "yaxis4": {
         "anchor": "x4",
         "domain": [
          0.7555555555555555,
          1
         ],
         "showgrid": true
        },
        "yaxis5": {
         "anchor": "x5",
         "domain": [
          0.37777777777777777,
          0.6222222222222222
         ],
         "showgrid": true
        },
        "yaxis6": {
         "anchor": "x6",
         "domain": [
          0.37777777777777777,
          0.6222222222222222
         ],
         "showgrid": true
        },
        "yaxis7": {
         "anchor": "x7",
         "domain": [
          0.37777777777777777,
          0.6222222222222222
         ],
         "showgrid": true
        },
        "yaxis8": {
         "anchor": "x8",
         "domain": [
          0.37777777777777777,
          0.6222222222222222
         ],
         "showgrid": true
        },
        "yaxis9": {
         "anchor": "x9",
         "domain": [
          0,
          0.24444444444444446
         ],
         "showgrid": true
        }
       }
      }
     },
     "metadata": {},
     "output_type": "display_data"
    }
   ],
   "source": [
    "topic_model.visualize_barchart(top_n_topics=11).show()\n"
   ]
  },
  {
   "cell_type": "code",
   "execution_count": 44,
   "id": "4355997e",
   "metadata": {},
   "outputs": [],
   "source": [
    "import pandas as pd\n",
    "\n",
    "# 原始标签 → 合并后新标签\n",
    "def merge_topics(topic):\n",
    "    if topic in [3, 5]:\n",
    "        return '3_5'\n",
    "    elif topic in [7, 9]:\n",
    "        return '7_9'\n",
    "    else:\n",
    "        return str(topic)  # 其他保留原样（但转成字符串以统一）\n",
    "\n",
    "df['Merged_Topic'] = df['BERTopic_Label'].apply(merge_topics)\n"
   ]
  },
  {
   "cell_type": "code",
   "execution_count": 45,
   "id": "289263da",
   "metadata": {},
   "outputs": [],
   "source": [
    "# 重新统计计数表\n",
    "school_topic_counts_merged = df.groupby(['School', 'Merged_Topic']).size().unstack(fill_value=0)\n",
    "\n",
    "# 重新计算百分比\n",
    "school_topic_percent_merged = school_topic_counts_merged.div(school_topic_counts_merged.sum(axis=1), axis=0)\n",
    "\n",
    "# 保存为 CSV（可选）\n",
    "school_topic_counts_merged.to_csv(\"school_topic_counts_merged.csv\")\n",
    "school_topic_percent_merged.to_csv(\"school_topic_percent_merged.csv\")\n"
   ]
  },
  {
   "cell_type": "code",
   "execution_count": 46,
   "id": "9d6e3895",
   "metadata": {},
   "outputs": [],
   "source": [
    "# 主题重命名映射表\n",
    "topic_rename_map = {\n",
    "    '0': 'finance',\n",
    "    '1': 'community',\n",
    "    '2': 'consulting',\n",
    "    '3_5': 'class quality',\n",
    "    '4': 'location',\n",
    "    '6': 'professor',\n",
    "    '7_9': 'entrepreneurship',\n",
    "    '8': 'course difficulty'\n",
    "}\n",
    "\n",
    "# 应用重命名到两个 DataFrame\n",
    "school_topic_counts_named = school_topic_counts_merged.rename(columns=topic_rename_map)\n",
    "school_topic_percent_named = school_topic_percent_merged.rename(columns=topic_rename_map)\n",
    "\n",
    "# 保存为 CSV（可选）\n",
    "school_topic_counts_named.to_csv(\"school_topic_counts_named.csv\")\n",
    "school_topic_percent_named.to_csv(\"school_topic_percent_named.csv\")\n"
   ]
  },
  {
   "cell_type": "code",
   "execution_count": null,
   "id": "f7d7aaa4",
   "metadata": {},
   "outputs": [
    {
     "name": "stdout",
     "output_type": "stream",
     "text": [
      "✅ 已去除 -1 主题，并正确生成 school_topic_percent_named2.csv\n"
     ]
    }
   ],
   "source": [
    "import pandas as pd\n",
    "\n",
    "# 读取学校 x 主题数量分布表\n",
    "df_counts = pd.read_csv(\"school_topic_counts_named.csv\")\n",
    "df_counts.set_index(\"School\", inplace=True)\n",
    "\n",
    "# 去除 -1 主题列（如果存在）\n",
    "if \"-1\" in df_counts.columns:\n",
    "    df_counts = df_counts.drop(columns=\"-1\")\n",
    "\n",
    "# 重新计算每所学校的主题百分比\n",
    "df_percent = df_counts.div(df_counts.sum(axis=1), axis=0)\n",
    "\n",
    "# 保存为命名后的百分比文件\n",
    "df_percent.to_csv(\"school_topic_percent_named_ignore outliers (final data).csv\")\n",
    "\n",
    "print(\"✅ 已去除 -1 主题，并正确生成 school_topic_percent_named_ignore outliers (final data).csv\")\n"
   ]
  },
  {
   "cell_type": "code",
   "execution_count": null,
   "id": "a30c408f",
   "metadata": {},
   "outputs": [
    {
     "data": {
      "image/png": "[encoded data removed]",
      "text/plain": [
       "<Figure size 1400x600 with 2 Axes>"
      ]
     },
     "metadata": {},
     "output_type": "display_data"
    }
   ],
   "source": [
    "import pandas as pd\n",
    "import seaborn as sns\n",
    "import matplotlib.pyplot as plt\n",
    "\n",
    "# 读取数据\n",
    "df = pd.read_csv(\"school_topic_percent_named_ignore outliers (final data).csv\")  # 你的文件名\n",
    "df.set_index(\"School\", inplace=True)  # 将学校名作为行索引\n",
    "\n",
    "# 设置绘图风格\n",
    "sns.set(style=\"whitegrid\")\n",
    "\n",
    "# 绘制热力图\n",
    "plt.figure(figsize=(14, 6))\n",
    "ax = sns.heatmap(\n",
    "    df,\n",
    "    annot=True,\n",
    "    cmap=\"YlGnBu\",\n",
    "    fmt=\".2f\",\n",
    "    linewidths=0.5,\n",
    "    cbar_kws={'label': 'Proportion'}\n",
    ")\n",
    "\n",
    "plt.title(\"Topic Heatmap by School\", fontsize=20)\n",
    "plt.xticks(rotation=45, ha=\"right\", fontsize=16)\n",
    "plt.yticks(fontsize=16)\n",
    "plt.tight_layout()\n",
    "plt.show()\n"
   ]
  }
 ],
 "metadata": {
  "kernelspec": {
   "display_name": "Python 3",
   "language": "python",
   "name": "python3"
  },
  "language_info": {
   "codemirror_mode": {
    "name": "ipython",
    "version": 3
   },
   "file_extension": ".py",
   "mimetype": "text/x-python",
   "name": "python",
   "nbconvert_exporter": "python",
   "pygments_lexer": "ipython3",
   "version": "3.11.1"
  }
 },
 "nbformat": 4,
 "nbformat_minor": 5
}
